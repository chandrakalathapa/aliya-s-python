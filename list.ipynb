{
 "cells": [
  {
   "cell_type": "code",
   "execution_count": 46,
   "metadata": {},
   "outputs": [
    {
     "ename": "SyntaxError",
     "evalue": "invalid syntax (760174375.py, line 1)",
     "output_type": "error",
     "traceback": [
      "\u001b[1;36m  Input \u001b[1;32mIn [46]\u001b[1;36m\u001b[0m\n\u001b[1;33m    indexed structure\u001b[0m\n\u001b[1;37m            ^\u001b[0m\n\u001b[1;31mSyntaxError\u001b[0m\u001b[1;31m:\u001b[0m invalid syntax\n"
     ]
    }
   ],
   "source": [
    "indexed structure\n",
    "mutable\n",
    "ordred\n",
    "can contain duplicates\n",
    "heterogeneous \n",
    "list( )is the function to convert other iterable to lists\n",
    "list has 11 methods\n",
    "tuple\n",
    "(tbd)\n",
    "set\n",
    "(tbd)\n",
    "dictionary\n",
    "(tbd)\n",
    "#strings are immutable"
   ]
  },
  {
   "cell_type": "code",
   "execution_count": null,
   "metadata": {},
   "outputs": [],
   "source": [
    "movies = ['avatar', 'titanic', 'starwars', 'the matrix', 'incredibles']"
   ]
  },
  {
   "cell_type": "code",
   "execution_count": null,
   "metadata": {},
   "outputs": [],
   "source": [
    "movies[1] = 'avengers '  #replace value of the second element"
   ]
  },
  {
   "cell_type": "code",
   "execution_count": null,
   "metadata": {},
   "outputs": [
    {
     "data": {
      "text/plain": [
       "['avatar', 'avengers ']"
      ]
     },
     "execution_count": 3,
     "metadata": {},
     "output_type": "execute_result"
    }
   ],
   "source": [
    "#first two movies\n",
    "\n",
    "movies[:2]"
   ]
  },
  {
   "cell_type": "code",
   "execution_count": null,
   "metadata": {},
   "outputs": [
    {
     "data": {
      "text/plain": [
       "['the matrix', 'incredibles']"
      ]
     },
     "execution_count": 4,
     "metadata": {},
     "output_type": "execute_result"
    }
   ],
   "source": [
    "#last two movies\n",
    "\n",
    "movies[-2:]"
   ]
  },
  {
   "cell_type": "code",
   "execution_count": null,
   "metadata": {},
   "outputs": [
    {
     "data": {
      "text/plain": [
       "['avengers ', 'the matrix']"
      ]
     },
     "execution_count": 6,
     "metadata": {},
     "output_type": "execute_result"
    }
   ],
   "source": [
    "movies[1::2]  #every second element (odd index)"
   ]
  },
  {
   "cell_type": "code",
   "execution_count": null,
   "metadata": {},
   "outputs": [
    {
     "data": {
      "text/plain": [
       "['incredibles', 'the matrix', 'starwars', 'avengers ', 'avatar']"
      ]
     },
     "execution_count": 7,
     "metadata": {},
     "output_type": "execute_result"
    }
   ],
   "source": [
    "movies[::-1]    #reverse the list"
   ]
  },
  {
   "cell_type": "code",
   "execution_count": null,
   "metadata": {},
   "outputs": [
    {
     "name": "stdout",
     "output_type": "stream",
     "text": [
      "i have watched avatar\n",
      "i have watched avengers \n",
      "i have watched starwars\n",
      "i have watched the matrix\n",
      "i have watched incredibles\n"
     ]
    }
   ],
   "source": [
    "for movie in movies:\n",
    "    print('i have watched ' + movie)"
   ]
  },
  {
   "cell_type": "code",
   "execution_count": null,
   "metadata": {},
   "outputs": [],
   "source": [
    "#functions and operations on list"
   ]
  },
  {
   "cell_type": "code",
   "execution_count": null,
   "metadata": {},
   "outputs": [
    {
     "name": "stdout",
     "output_type": "stream",
     "text": [
      "[1, 1, 1, 1, 1, 1, 1, 1, 1, 1, 1, 1, 1, 1, 1, 1, 1, 1, 1, 1, 1, 1, 1, 1, 1, 1, 1, 1, 1, 1, 1, 1, 1, 1, 1, 1, 1, 1, 1, 1, 1, 1, 1, 1, 1, 1, 1, 1, 1, 1]\n"
     ]
    }
   ],
   "source": [
    "#duplication\n",
    "\n",
    "x = [1]*50\n",
    "print(x)"
   ]
  },
  {
   "cell_type": "code",
   "execution_count": null,
   "metadata": {},
   "outputs": [
    {
     "name": "stdout",
     "output_type": "stream",
     "text": [
      "[1, 2, 3, 4, 1, 2, 3, 4, 1, 2, 3, 4, 1, 2, 3, 4, 1, 2, 3, 4, 1, 2, 3, 4, 1, 2, 3, 4, 1, 2, 3, 4, 1, 2, 3, 4, 1, 2, 3, 4]\n"
     ]
    }
   ],
   "source": [
    "x = [1,2,3,4] * 10\n",
    "print(x)"
   ]
  },
  {
   "cell_type": "code",
   "execution_count": null,
   "metadata": {},
   "outputs": [
    {
     "data": {
      "text/plain": [
       "[1, 2, 3, 4, 5, 6, 7, 8, 9, 10, 11]"
      ]
     },
     "execution_count": 12,
     "metadata": {},
     "output_type": "execute_result"
    }
   ],
   "source": [
    "x = [1,2,3,4,5,6]\n",
    "y = [7,8,9,10,11]\n",
    "x+y"
   ]
  },
  {
   "cell_type": "code",
   "execution_count": null,
   "metadata": {},
   "outputs": [],
   "source": [
    "z = [23,4,4,2,2222,111,444,57,312,6546,11]"
   ]
  },
  {
   "cell_type": "code",
   "execution_count": null,
   "metadata": {},
   "outputs": [
    {
     "data": {
      "text/plain": [
       "[2, 4, 4, 11, 23, 57, 111, 312, 444, 2222, 6546]"
      ]
     },
     "execution_count": 14,
     "metadata": {},
     "output_type": "execute_result"
    }
   ],
   "source": [
    "#it solves iteration ,does'nt solve the mix data type , data  should be the same\n",
    "sorted(z) "
   ]
  },
  {
   "cell_type": "code",
   "execution_count": null,
   "metadata": {},
   "outputs": [
    {
     "data": {
      "text/plain": [
       "9736"
      ]
     },
     "execution_count": 15,
     "metadata": {},
     "output_type": "execute_result"
    }
   ],
   "source": [
    "sum(z)"
   ]
  },
  {
   "cell_type": "code",
   "execution_count": null,
   "metadata": {},
   "outputs": [
    {
     "data": {
      "text/plain": [
       "6546"
      ]
     },
     "execution_count": 16,
     "metadata": {},
     "output_type": "execute_result"
    }
   ],
   "source": [
    "max(z)"
   ]
  },
  {
   "cell_type": "code",
   "execution_count": null,
   "metadata": {},
   "outputs": [
    {
     "data": {
      "text/plain": [
       "2"
      ]
     },
     "execution_count": 17,
     "metadata": {},
     "output_type": "execute_result"
    }
   ],
   "source": [
    "min(z)"
   ]
  },
  {
   "cell_type": "code",
   "execution_count": null,
   "metadata": {},
   "outputs": [
    {
     "data": {
      "text/plain": [
       "885.0909090909091"
      ]
     },
     "execution_count": 18,
     "metadata": {},
     "output_type": "execute_result"
    }
   ],
   "source": [
    "sum(z)/len(z)"
   ]
  },
  {
   "cell_type": "code",
   "execution_count": null,
   "metadata": {},
   "outputs": [
    {
     "data": {
      "text/plain": [
       "['m', 'a', 'n', 'i', 'k', 'c', 'h', 'a', 'n', 'd']"
      ]
     },
     "execution_count": 19,
     "metadata": {},
     "output_type": "execute_result"
    }
   ],
   "source": [
    "#changes strings to list\n",
    "list(\"manikchand\")"
   ]
  },
  {
   "cell_type": "code",
   "execution_count": null,
   "metadata": {},
   "outputs": [],
   "source": [
    "x = []   #list is empty , can put data later"
   ]
  },
  {
   "cell_type": "code",
   "execution_count": null,
   "metadata": {},
   "outputs": [],
   "source": [
    " #methods of list\n",
    "adding item in list\n",
    "   append()\n",
    "   insert()\n",
    "   extend()\n",
    "removing items from list\n",
    "   pop()\n",
    "   remove()\n",
    "   clear()\n",
    "utility function\n",
    "   sort()\n",
    "   reversed()\n",
    "   index()\n",
    "   count()\n",
    "   copy()\n"
   ]
  },
  {
   "cell_type": "code",
   "execution_count": 48,
   "metadata": {},
   "outputs": [
    {
     "name": "stdout",
     "output_type": "stream",
     "text": [
      "['the final empire', 'the well of ascension', 'the hero of ages', 'steelheart', 'legion', 'firefight', 'calamity', 'way of the kings', 'oathbringer', 'the rythm of war', 'words of radiance', 'warbreaker', 'the rethmatist']\n"
     ]
    }
   ],
   "source": [
    "books = ['the final empire',\n",
    "         'the well of ascension',\n",
    "         'the hero of ages',\n",
    "         'steelheart',\n",
    "         'legion',\n",
    "         'firefight',\n",
    "         'calamity',\n",
    "         'way of the kings',\n",
    "         'oathbringer',\n",
    "         'the rythm of war',\n",
    "         'words of radiance',\n",
    "         'warbreaker',\n",
    "         'the rethmatist']\n",
    "print(books)         \n"
   ]
  },
  {
   "cell_type": "code",
   "execution_count": 49,
   "metadata": {},
   "outputs": [],
   "source": [
    "#to add item at the end of the list, can add  only one item once in append\n",
    "\n",
    "books.append('legion:skin deep')"
   ]
  },
  {
   "cell_type": "code",
   "execution_count": 50,
   "metadata": {},
   "outputs": [
    {
     "name": "stdout",
     "output_type": "stream",
     "text": [
      "['the final empire', 'the well of ascension', 'the hero of ages', 'steelheart', 'legion', 'firefight', 'calamity', 'way of the kings', 'oathbringer', 'the rythm of war', 'words of radiance', 'warbreaker', 'the rethmatist', 'legion:skin deep', 'elantris', 'white sand', 'firstborn']\n"
     ]
    }
   ],
   "source": [
    "books.append('elantris')\n",
    "books.append('white sand')\n",
    "books.append('firstborn')\n",
    "print(books)\n"
   ]
  },
  {
   "cell_type": "code",
   "execution_count": 51,
   "metadata": {},
   "outputs": [
    {
     "data": {
      "text/plain": [
       "17"
      ]
     },
     "execution_count": 51,
     "metadata": {},
     "output_type": "execute_result"
    }
   ],
   "source": [
    "len(books)"
   ]
  },
  {
   "cell_type": "code",
   "execution_count": 52,
   "metadata": {},
   "outputs": [],
   "source": [
    "#nesting , we can add list in list but as element\n",
    "books.append(['apple', 'banane', 'orange'])"
   ]
  },
  {
   "cell_type": "code",
   "execution_count": 53,
   "metadata": {},
   "outputs": [
    {
     "data": {
      "text/plain": [
       "['the final empire',\n",
       " 'the well of ascension',\n",
       " 'the hero of ages',\n",
       " 'steelheart',\n",
       " 'legion',\n",
       " 'firefight',\n",
       " 'calamity',\n",
       " 'way of the kings',\n",
       " 'oathbringer',\n",
       " 'the rythm of war',\n",
       " 'words of radiance',\n",
       " 'warbreaker',\n",
       " 'the rethmatist',\n",
       " 'legion:skin deep',\n",
       " 'elantris',\n",
       " 'white sand',\n",
       " 'firstborn',\n",
       " ['apple', 'banane', 'orange']]"
      ]
     },
     "execution_count": 53,
     "metadata": {},
     "output_type": "execute_result"
    }
   ],
   "source": [
    "books"
   ]
  },
  {
   "cell_type": "code",
   "execution_count": 54,
   "metadata": {},
   "outputs": [
    {
     "name": "stdout",
     "output_type": "stream",
     "text": [
      "['the final empire', 'the well of ascension', 'the hero of ages', 'steelheart', 'legion', 'mitosis', 'firefight', 'calamity', 'way of the kings', 'oathbringer', 'the rythm of war', 'words of radiance', 'warbreaker', 'the rethmatist', 'legion:skin deep', 'elantris', 'white sand', 'firstborn', ['apple', 'banane', 'orange']]\n"
     ]
    }
   ],
   "source": [
    "#insert , to add item in case we forgot to add that item  , adds only one item once\n",
    "\n",
    "books.insert(5, 'mitosis')\n",
    "print(books)"
   ]
  },
  {
   "cell_type": "code",
   "execution_count": 55,
   "metadata": {},
   "outputs": [
    {
     "name": "stdout",
     "output_type": "stream",
     "text": [
      "['the final empire', 'the well of ascension', 'the hero of ages', 'steelheart', 'legion', 'mitosis', 'firefight', 'calamity', 'way of the kings', 'oathbringer', 'the rythm of war', 'words of radiance', 'warbreaker', 'the rethmatist', 'the alloyof law', 'legion:skin deep', 'elantris', 'white sand', 'firstborn', ['apple', 'banane', 'orange']]\n"
     ]
    }
   ],
   "source": [
    "books.insert(-5, 'the alloyof law')\n",
    "print(books)"
   ]
  },
  {
   "cell_type": "code",
   "execution_count": 56,
   "metadata": {},
   "outputs": [],
   "source": [
    "worst_book = ['the white tiger', 'twilight saga:new moon', 'two states']"
   ]
  },
  {
   "cell_type": "code",
   "execution_count": 57,
   "metadata": {},
   "outputs": [],
   "source": [
    "#add the list  of mulitple  items as a list not as element  ,and atteches it to large list\n",
    "books.extend(worst_book)"
   ]
  },
  {
   "cell_type": "code",
   "execution_count": 58,
   "metadata": {},
   "outputs": [],
   "source": [
    "#extend\n",
    "books.extend([1,2,3,4])"
   ]
  },
  {
   "cell_type": "code",
   "execution_count": 59,
   "metadata": {},
   "outputs": [
    {
     "name": "stdout",
     "output_type": "stream",
     "text": [
      "['the final empire', 'the well of ascension', 'the hero of ages', 'steelheart', 'legion', 'mitosis', 'firefight', 'calamity', 'way of the kings', 'oathbringer', 'the rythm of war', 'words of radiance', 'warbreaker', 'the rethmatist', 'the alloyof law', 'legion:skin deep', 'elantris', 'white sand', 'firstborn', ['apple', 'banane', 'orange'], 'the white tiger', 'twilight saga:new moon', 'two states', 1, 2, 3, 4]\n"
     ]
    }
   ],
   "source": [
    "print(books)"
   ]
  },
  {
   "cell_type": "code",
   "execution_count": 60,
   "metadata": {},
   "outputs": [
    {
     "data": {
      "text/plain": [
       "27"
      ]
     },
     "execution_count": 60,
     "metadata": {},
     "output_type": "execute_result"
    }
   ],
   "source": [
    "len(books)"
   ]
  },
  {
   "cell_type": "code",
   "execution_count": null,
   "metadata": {},
   "outputs": [],
   "source": [
    "#removal\n",
    "remove by name\n",
    "remove by Index"
   ]
  },
  {
   "cell_type": "code",
   "execution_count": 61,
   "metadata": {},
   "outputs": [],
   "source": [
    "books.remove('the white tiger')"
   ]
  },
  {
   "cell_type": "code",
   "execution_count": 74,
   "metadata": {},
   "outputs": [
    {
     "name": "stdout",
     "output_type": "stream",
     "text": [
      "1, 2, 3, 4 is not in the list\n"
     ]
    }
   ],
   "source": [
    "#to remove any item we need to use the correct condition , it only removes first occurance , use loop to remove all the duplicates\n",
    "\n",
    "\n",
    "remove_val = '1, 2, 3, 4'\n",
    "if remove_val in books:\n",
    "    books.remove(remove_val)\n",
    "else:\n",
    "        print(remove_val   + \" \" +\"is not in the list\")"
   ]
  },
  {
   "cell_type": "code",
   "execution_count": 75,
   "metadata": {},
   "outputs": [
    {
     "data": {
      "text/plain": [
       "['the final empire',\n",
       " 'the well of ascension',\n",
       " 'the hero of ages',\n",
       " 'steelheart',\n",
       " 'legion',\n",
       " 'mitosis',\n",
       " 'firefight',\n",
       " 'calamity',\n",
       " 'way of the kings',\n",
       " 'oathbringer',\n",
       " 'the rythm of war',\n",
       " 'words of radiance',\n",
       " 'warbreaker',\n",
       " 'the rethmatist',\n",
       " 'the alloyof law',\n",
       " 'legion:skin deep',\n",
       " 'elantris',\n",
       " 'white sand',\n",
       " ['apple', 'banane', 'orange'],\n",
       " 'two states',\n",
       " 1]"
      ]
     },
     "execution_count": 75,
     "metadata": {},
     "output_type": "execute_result"
    }
   ],
   "source": [
    "books"
   ]
  },
  {
   "cell_type": "code",
   "execution_count": 71,
   "metadata": {},
   "outputs": [
    {
     "data": {
      "text/plain": [
       "'twilight saga:new moon'"
      ]
     },
     "execution_count": 71,
     "metadata": {},
     "output_type": "execute_result"
    }
   ],
   "source": [
    "#index vise removing item \n",
    "books.pop(-5)"
   ]
  },
  {
   "cell_type": "code",
   "execution_count": 72,
   "metadata": {},
   "outputs": [
    {
     "data": {
      "text/plain": [
       "4"
      ]
     },
     "execution_count": 72,
     "metadata": {},
     "output_type": "execute_result"
    }
   ],
   "source": [
    "#it removes  the last element automatically\n",
    "books.pop()"
   ]
  },
  {
   "cell_type": "code",
   "execution_count": 76,
   "metadata": {},
   "outputs": [
    {
     "data": {
      "text/plain": [
       "1"
      ]
     },
     "execution_count": 76,
     "metadata": {},
     "output_type": "execute_result"
    }
   ],
   "source": [
    "books.pop(-1)"
   ]
  },
  {
   "cell_type": "code",
   "execution_count": 77,
   "metadata": {},
   "outputs": [],
   "source": [
    "#to clear the entire data\n",
    "books.clear()"
   ]
  },
  {
   "cell_type": "code",
   "execution_count": 78,
   "metadata": {},
   "outputs": [
    {
     "name": "stdout",
     "output_type": "stream",
     "text": [
      "[]\n"
     ]
    }
   ],
   "source": [
    "print(books)"
   ]
  },
  {
   "cell_type": "code",
   "execution_count": null,
   "metadata": {},
   "outputs": [],
   "source": [
    "#sort for permanent\n",
    "#sorted for temporary\n"
   ]
  },
  {
   "cell_type": "code",
   "execution_count": 1,
   "metadata": {},
   "outputs": [],
   "source": [
    "fruits = ['apple', 'Banana', 'Orange', 'mango', 'Grapes']\n"
   ]
  },
  {
   "cell_type": "code",
   "execution_count": 2,
   "metadata": {},
   "outputs": [],
   "source": [
    "fruits.sort()"
   ]
  },
  {
   "cell_type": "code",
   "execution_count": null,
   "metadata": {},
   "outputs": [],
   "source": [
    "y.sort(reverse=True) #decending order"
   ]
  },
  {
   "cell_type": "code",
   "execution_count": null,
   "metadata": {},
   "outputs": [],
   "source": [
    "y.sort() #changing the list"
   ]
  },
  {
   "cell_type": "code",
   "execution_count": 3,
   "metadata": {},
   "outputs": [
    {
     "name": "stdout",
     "output_type": "stream",
     "text": [
      "[5, 4, 3, 2, 1, 2, 1]\n"
     ]
    }
   ],
   "source": [
    "x = [1,2,1,2,3,4,5]\n",
    "x.reverse()\n",
    "print(x)"
   ]
  },
  {
   "cell_type": "code",
   "execution_count": 4,
   "metadata": {},
   "outputs": [],
   "source": [
    "x = [1,2,2,2,2,1,2,2,2,2,1,2,2,2,3,3,3,1,1,1,2,2,2,3,3,3,1,1,1,4,5,5,5,6,]"
   ]
  },
  {
   "cell_type": "code",
   "execution_count": 5,
   "metadata": {},
   "outputs": [
    {
     "data": {
      "text/plain": [
       "9"
      ]
     },
     "execution_count": 5,
     "metadata": {},
     "output_type": "execute_result"
    }
   ],
   "source": [
    "x.count(1) #it counts the number of occurances only "
   ]
  },
  {
   "cell_type": "code",
   "execution_count": 6,
   "metadata": {},
   "outputs": [
    {
     "data": {
      "text/plain": [
       "1"
      ]
     },
     "execution_count": 6,
     "metadata": {},
     "output_type": "execute_result"
    }
   ],
   "source": [
    "x.count(4)"
   ]
  },
  {
   "cell_type": "code",
   "execution_count": 10,
   "metadata": {},
   "outputs": [],
   "source": [
    "z = [23,34,554,65,23,43,56]"
   ]
  },
  {
   "cell_type": "code",
   "execution_count": 8,
   "metadata": {},
   "outputs": [
    {
     "data": {
      "text/plain": [
       "5"
      ]
     },
     "execution_count": 8,
     "metadata": {},
     "output_type": "execute_result"
    }
   ],
   "source": [
    "z.index(56) #gets the index "
   ]
  },
  {
   "cell_type": "code",
   "execution_count": 12,
   "metadata": {},
   "outputs": [
    {
     "data": {
      "text/plain": [
       "4"
      ]
     },
     "execution_count": 12,
     "metadata": {},
     "output_type": "execute_result"
    }
   ],
   "source": [
    "z.index(23,1)   #dont write index number direct"
   ]
  },
  {
   "cell_type": "code",
   "execution_count": 1,
   "metadata": {},
   "outputs": [
    {
     "ename": "NameError",
     "evalue": "name 'z' is not defined",
     "output_type": "error",
     "traceback": [
      "\u001b[1;31m---------------------------------------------------------------------------\u001b[0m",
      "\u001b[1;31mNameError\u001b[0m                                 Traceback (most recent call last)",
      "\u001b[1;32mc:\\Users\\Aliya\\OneDrive\\Desktop\\aliya's python\\list.ipynb Cell 45'\u001b[0m in \u001b[0;36m<cell line: 1>\u001b[1;34m()\u001b[0m\n\u001b[1;32m----> <a href='vscode-notebook-cell:/c%3A/Users/Aliya/OneDrive/Desktop/aliya%27s%20python/list.ipynb#ch0000044?line=0'>1</a>\u001b[0m \u001b[39mif\u001b[39;00m \u001b[39m100\u001b[39m \u001b[39min\u001b[39;00m z:\n\u001b[0;32m      <a href='vscode-notebook-cell:/c%3A/Users/Aliya/OneDrive/Desktop/aliya%27s%20python/list.ipynb#ch0000044?line=1'>2</a>\u001b[0m     \u001b[39mprint\u001b[39m(z\u001b[39m.\u001b[39mindex(\u001b[39m100\u001b[39m))\n",
      "\u001b[1;31mNameError\u001b[0m: name 'z' is not defined"
     ]
    }
   ],
   "source": [
    "if 100 in z:\n",
    "    print(z.index(100))"
   ]
  },
  {
   "cell_type": "code",
   "execution_count": 15,
   "metadata": {},
   "outputs": [
    {
     "name": "stdout",
     "output_type": "stream",
     "text": [
      "2\n"
     ]
    }
   ],
   "source": [
    "if 554 in z:\n",
    "    print(z.index(554))"
   ]
  },
  {
   "cell_type": "code",
   "execution_count": 16,
   "metadata": {},
   "outputs": [],
   "source": [
    "x = [1,2,3,5,3,1,7,8,9]\n",
    "y = x  #reference copy (just another name of variable it's not a copy )\n",
    "z = x.copy() #shallow copy, to copy a list always use this function "
   ]
  },
  {
   "cell_type": "code",
   "execution_count": 22,
   "metadata": {},
   "outputs": [],
   "source": [
    "x.append(1)"
   ]
  },
  {
   "cell_type": "code",
   "execution_count": 25,
   "metadata": {},
   "outputs": [],
   "source": [
    "x.remove(9)"
   ]
  },
  {
   "cell_type": "code",
   "execution_count": 26,
   "metadata": {},
   "outputs": [
    {
     "name": "stdout",
     "output_type": "stream",
     "text": [
      "[1, 2, 5, 1, 7, 8, 1, 1]\n"
     ]
    }
   ],
   "source": [
    "print(x)\n"
   ]
  },
  {
   "cell_type": "code",
   "execution_count": null,
   "metadata": {},
   "outputs": [],
   "source": []
  }
 ],
 "metadata": {
  "interpreter": {
   "hash": "19d1d53a962d236aa061289c2ac16dc8e6d9648c89fe79f459ae9a3493bc67b4"
  },
  "kernelspec": {
   "display_name": "Python 3.9.12 ('base')",
   "language": "python",
   "name": "python3"
  },
  "language_info": {
   "codemirror_mode": {
    "name": "ipython",
    "version": 3
   },
   "file_extension": ".py",
   "mimetype": "text/x-python",
   "name": "python",
   "nbconvert_exporter": "python",
   "pygments_lexer": "ipython3",
   "version": "3.9.12"
  },
  "orig_nbformat": 4,
  "vscode": {
   "interpreter": {
    "hash": "19d1d53a962d236aa061289c2ac16dc8e6d9648c89fe79f459ae9a3493bc67b4"
   }
  }
 },
 "nbformat": 4,
 "nbformat_minor": 2
}
