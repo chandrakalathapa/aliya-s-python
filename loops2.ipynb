{
 "cells": [
  {
   "cell_type": "code",
   "execution_count": 2,
   "metadata": {},
   "outputs": [
    {
     "name": "stdout",
     "output_type": "stream",
     "text": [
      "1\n",
      "2\n",
      "3\n",
      "4\n",
      "2\n",
      "4\n",
      "2\n",
      "3\n",
      "1\n",
      "2\n",
      "3\n"
     ]
    }
   ],
   "source": [
    "x = [1,2,3,4,0,2,4,0,2,3,0,1,2,3,]\n",
    "for i in x:\n",
    "    if i == 0:\n",
    "        continue\n",
    "    print(i)"
   ]
  },
  {
   "cell_type": "code",
   "execution_count": 6,
   "metadata": {},
   "outputs": [
    {
     "name": "stdout",
     "output_type": "stream",
     "text": [
      "we have  apple\n",
      "we have  banana\n",
      "we have  mango\n",
      "thats all\n"
     ]
    }
   ],
   "source": [
    "fruits = ['apple', 'banana', 'mango']\n",
    "for fruit in fruits:\n",
    "    print('we have ', fruit)\n",
    "else:\n",
    "    print('thats all')    \n"
   ]
  },
  {
   "cell_type": "code",
   "execution_count": 7,
   "metadata": {},
   "outputs": [
    {
     "name": "stdout",
     "output_type": "stream",
     "text": [
      "looking at tomato\n",
      "looking at carrot\n",
      "looking at cucumber\n",
      "looking at potato\n",
      "potato found\n"
     ]
    }
   ],
   "source": [
    "vegs = ['tomato','carrot', 'cucumber', 'potato', 'onion']\n",
    "for veg in vegs:\n",
    "    print(f'looking at {veg}')\n",
    "    if veg == 'potato':\n",
    "        print(\"potato found\")\n",
    "        break\n",
    "else:\n",
    "    print(\"potato not found\")    \n",
    "\n"
   ]
  },
  {
   "cell_type": "code",
   "execution_count": 12,
   "metadata": {},
   "outputs": [
    {
     "name": "stdout",
     "output_type": "stream",
     "text": [
      "0 tomato\n",
      "1 carrot\n",
      "2 cucumber\n",
      "3 potato\n",
      "4 onion\n"
     ]
    }
   ],
   "source": [
    "for idx,val in enumerate(vegs):\n",
    "    print(idx,val)\n",
    "    "
   ]
  },
  {
   "cell_type": "code",
   "execution_count": 16,
   "metadata": {},
   "outputs": [
    {
     "name": "stdout",
     "output_type": "stream",
     "text": [
      "4 7 7 10 13 8 10 "
     ]
    }
   ],
   "source": [
    "x = [1,2,3,4,5,6,6]\n",
    "y = [2,3,1,2,3,1,2]\n",
    "z = [1,2,3,4,5,1,2]\n",
    "\n",
    "for i,j,k in zip(x,y,z):\n",
    "    print(i+ j+k ,end=' ')"
   ]
  }
 ],
 "metadata": {
  "kernelspec": {
   "display_name": "Python 3.9.12",
   "language": "python",
   "name": "python3"
  },
  "language_info": {
   "codemirror_mode": {
    "name": "ipython",
    "version": 3
   },
   "file_extension": ".py",
   "mimetype": "text/x-python",
   "name": "python",
   "nbconvert_exporter": "python",
   "pygments_lexer": "ipython3",
   "version": "3.9.12"
  },
  "orig_nbformat": 4,
  "vscode": {
   "interpreter": {
    "hash": "5ca558ded1aaa907afe15efa038d696417dae7a9516e72c07d05ac944cc76cad"
   }
  }
 },
 "nbformat": 4,
 "nbformat_minor": 2
}
